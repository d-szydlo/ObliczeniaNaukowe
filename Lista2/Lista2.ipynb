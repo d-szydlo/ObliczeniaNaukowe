{
 "cells": [
  {
   "cell_type": "markdown",
   "metadata": {},
   "source": [
    "## **Obliczenia naukowe, lista 2**\n",
    "## Dominika Szydło, 250109\n",
    "\n",
    "## **Zadanie 1.**\n",
    "\n",
    "Eksperyment obliczania iloczynu skalarnego dwóch wektorów: $x_1 =  [2.718281828, −3.141592654, 1.414213562, 0.5772156649, 0.3010299957]$, $x_2 =  [2.718281828, −3.141592654, 1.414213562, 0.577215664, 0.301029995]$, $y =  [1486.2497, 878366.9879, −22.37492, 4773714.647, 0.000185049]$.\n",
    "\n",
    "**a)** sposób \"w przód\""
   ]
  },
  {
   "cell_type": "code",
   "execution_count": 41,
   "metadata": {},
   "outputs": [
    {
     "name": "stdout",
     "output_type": "stream",
     "text": [
      "x1*y\n",
      "Float32: s = -0.4999443\n",
      "Float64: s = 1.0251881368296672e-10\n",
      "x2*y\n",
      "Float32: s = -0.4999443\n",
      "Float64: s = -0.004296342739891585\n"
     ]
    }
   ],
   "source": [
    "using LinearAlgebra\n",
    "\n",
    "x1 = [2.718281828, -3.141592654, 1.414213562, 0.5772156649, 0.3010299957]\n",
    "x2 = [2.718281828, -3.141592654, 1.414213562, 0.577215664, 0.301029995]\n",
    "y = [1486.2497, 878366.9879, -22.37492, 4773714.647, 0.000185049]\n",
    "\n",
    "function count_forward(x, y, art_type)\n",
    "    s::art_type = 0.0\n",
    "    for i in 1:length(x)\n",
    "        s += art_type(x[i])*art_type(y[i])\n",
    "    end\n",
    "    return s\n",
    "end\n",
    "\n",
    "println(\"x1*y\")\n",
    "println(\"Float32: s = $(count_forward(x1, y, Float32))\")\n",
    "println(\"Float64: s = $(count_forward(x1, y, Float64))\")\n",
    "println(\"x2*y\")\n",
    "println(\"Float32: s = $(count_forward(x2, y, Float32))\")\n",
    "println(\"Float64: s = $(count_forward(x2, y, Float64))\")"
   ]
  },
  {
   "cell_type": "markdown",
   "metadata": {},
   "source": [
    "**b)** sposób \"w tył\""
   ]
  },
  {
   "cell_type": "code",
   "execution_count": 42,
   "metadata": {},
   "outputs": [
    {
     "name": "stdout",
     "output_type": "stream",
     "text": [
      "x1*y\n",
      "Float32: s = -0.4543457\n",
      "Float64: s = -1.5643308870494366e-10\n",
      "x2*y\n",
      "Float32: s = -0.4543457\n",
      "Float64: s = -0.004296342998713953\n"
     ]
    }
   ],
   "source": [
    "println(\"x1*y\")\n",
    "println(\"Float32: s = $(count_forward(reverse(x1), reverse(y), Float32))\")\n",
    "println(\"Float64: s = $(count_forward(reverse(x1), reverse(y), Float64))\")\n",
    "println(\"x2*y\")\n",
    "println(\"Float32: s = $(count_forward(reverse(x2), reverse(y), Float32))\")\n",
    "println(\"Float64: s = $(count_forward(reverse(x2), reverse(y), Float64))\")"
   ]
  },
  {
   "cell_type": "markdown",
   "metadata": {},
   "source": [
    "**c)** od największego do najmniejszego"
   ]
  },
  {
   "cell_type": "code",
   "execution_count": 43,
   "metadata": {},
   "outputs": [
    {
     "name": "stdout",
     "output_type": "stream",
     "text": [
      "x1*y\n",
      "Float32: s = -0.5\n",
      "Float64: s = 0.0\n",
      "x2*y\n",
      "Float32: s = -0.5\n",
      "Float64: s = -0.004296342842280865\n"
     ]
    }
   ],
   "source": [
    "function from_big(x, y, art_type)\n",
    "    pos = zeros(art_type, 0)\n",
    "    neg = zeros(art_type, 0)\n",
    "    \n",
    "    for i in 1:length(x)\n",
    "        prod = art_type(x[i])*art_type(y[i])\n",
    "        if prod > 0.0\n",
    "            append!(pos, prod)\n",
    "        else\n",
    "            append!(neg, prod)\n",
    "        end\n",
    "    end\n",
    "    return sum(reverse(sort(pos))) + sum(sort(neg))\n",
    "end\n",
    "\n",
    "println(\"x1*y\")\n",
    "println(\"Float32: s = $(from_big(x1,y,Float32))\")\n",
    "println(\"Float64: s = $(from_big(x1,y,Float64))\")\n",
    "println(\"x2*y\")\n",
    "println(\"Float32: s = $(from_big(x2,y,Float32))\")\n",
    "println(\"Float64: s = $(from_big(x2,y,Float64))\")"
   ]
  },
  {
   "cell_type": "markdown",
   "metadata": {},
   "source": [
    "**d)** od najmniejszego do największego"
   ]
  },
  {
   "cell_type": "code",
   "execution_count": 44,
   "metadata": {},
   "outputs": [
    {
     "name": "stdout",
     "output_type": "stream",
     "text": [
      "x1*y\n",
      "Float32: s = -0.5\n",
      "Float64: s = 0.0\n",
      "x2*y\n",
      "Float32: s = -0.5\n",
      "Float64: s = -0.004296342842280865\n"
     ]
    }
   ],
   "source": [
    "function from_small(x, y, art_type)\n",
    "    pos = zeros(art_type, 0)\n",
    "    neg = zeros(art_type, 0)\n",
    "    \n",
    "    for i in 1:length(x)\n",
    "        prod = art_type(x[i])*art_type(y[i])\n",
    "        if prod > 0.0\n",
    "            append!(pos, prod)\n",
    "        else\n",
    "            append!(neg, prod)\n",
    "        end\n",
    "    end\n",
    "    return sum(sort(pos)) + sum(reverse(sort(neg)))\n",
    "end\n",
    "\n",
    "println(\"x1*y\")\n",
    "println(\"Float32: s = $(from_small(x1,y,Float32))\")\n",
    "println(\"Float64: s = $(from_small(x1,y,Float64))\")\n",
    "println(\"x2*y\")\n",
    "println(\"Float32: s = $(from_small(x2,y,Float32))\")\n",
    "println(\"Float64: s = $(from_small(x2,y,Float64))\")"
   ]
  },
  {
   "cell_type": "markdown",
   "metadata": {},
   "source": [
    "Dla `Float32` wyniki się nie zmieniają w stosunku do wyników z poprzedniego zadania z uwagi na niewielką precyzję tej arytmetyki - zmiany zaszły \"za daleko\" w liczbie, żeby wpływały na wynik końcowy. Z kolei dla `Float64` niewielkie zmiany danych spowodowały duże odkształcenie wyniku. Dzieje się tak, ponieważ wskaźnik uwarunkowania zadania policzenia iloczynu skalarnego wektorów $x$, $y$ wyraża się wzorem $\\frac{\\sum_{i=1}^{n} |x_iy_i|}{|\\sum_{i=1}^{n} x_iy_i|}$, natomiast wektory z zadania są prawie prostopadłe, zatem dół ułamka będzie dążył do 0, a co za tym idzie całe wyrażenie do nieskończoności, tak więc zadanie jest źle uwarunkowane."
   ]
  },
  {
   "cell_type": "markdown",
   "metadata": {},
   "source": [
    "## **Zadanie 2.**\n",
    "\n",
    "Narysować wykres funkcji $f(x) = e^xln(1 + e^{−x})$ w co najmniej dwóch dowolnych programach do wizualizacji. Następnie policzyć granicę funkcji $\\lim_{x\\to\\infty}f(x)$. Porównać wykres funkcji z policzoną granicą. Wyjaśnić zjawisko.\n",
    "\n",
    "Wykres narysowany w Wolframie Alpha:\n",
    "![wolfram](./wolfram.png)\n",
    "\n",
    "Wykres narysowany w Desmos:\n",
    "![desmos](./desmos.png)\n",
    "\n",
    "Obliczenie granicy:\n",
    "$\\lim_{x\\to\\infty}e^xln(1 + e^{−x}) = \\lim_{x\\to\\infty}\\frac{ln(1 + e^{−x})}{e^{-x}} \\stackrel{H}{=} \\lim_{x\\to\\infty}\\frac{-\\frac{1}{1+e^x}}{-e^{-x}} = \\lim_{x\\to\\infty}\\frac{e^x}{1+e^x} = 1$\n",
    "\n",
    "Zjawisko występuje, ponieważ w zadaniu musiała pojawić się niestabilność numeryczna na tyle trudna, że nie udało się jej \"obejść\". Jak można zaobserwować na wykresach, dziwne rzeczy zaczynają się dziać około przedziału $[35, 37]$, a następnie funkcje przyjmują wartość $0$. Przyjrzyjmy się wykresom funkcji $e^x$ oraz $ln(1+e^{-x})$\n",
    "\n",
    "![wykresy](./wykres.png)\n",
    "\n",
    "Wartości funkcji $e^x$ są bardzo duże w stosunku do wartości funkcji $ln(1+e^{-x})$, która zbiega do $0$. Stąd dziwne wartości na przedziale $\\approx[35, 37]$ - mnożymy dużą liczbę przez bardzo małą w stosunku do niej. Następnie $e^{-x}$ staje się na tyle małe, że w reprezentacji $1+e^{-x} \\approx 1$, przez co logarytm jest równy $0$, a przez to całe wyrażenie też daje $0$."
   ]
  },
  {
   "cell_type": "markdown",
   "metadata": {},
   "source": [
    "## **Zadanie 3.**\n",
    "\n",
    "Rozwiązywanie układu równań liniowych $\\textbf{Ax} = \\textbf{b}$ dla danej macierzy współczynników $\\textbf{A}\\in\\mathbb{R}^{n\\times n}$ i wektora prawych stron $\\textbf{b}\\in\\mathbb{R}^n$."
   ]
  },
  {
   "cell_type": "code",
   "execution_count": 45,
   "metadata": {},
   "outputs": [
    {
     "data": {
      "text/plain": [
       "hilb (generic function with 1 method)"
      ]
     },
     "execution_count": 45,
     "metadata": {},
     "output_type": "execute_result"
    }
   ],
   "source": [
    "function matcond(n::Int, c::Float64)\n",
    "# Function generates a random square matrix A of size n with\n",
    "# a given condition number c.\n",
    "# Inputs:\n",
    "#\tn: size of matrix A, n>1\n",
    "#\tc: condition of matrix A, c>= 1.0\n",
    "#\n",
    "# Usage: matcond(10, 100.0)\n",
    "#\n",
    "# Pawel Zielinski\n",
    "        if n < 2\n",
    "         error(\"size n should be > 1\")\n",
    "        end\n",
    "        if c< 1.0\n",
    "         error(\"condition number  c of a matrix  should be >= 1.0\")\n",
    "        end\n",
    "        (U,S,V)=svd(rand(n,n))\n",
    "        return U*diagm(0 =>[LinRange(1.0,c,n);])*V'\n",
    "end\n",
    "\n",
    "function hilb(n::Int)\n",
    "# Function generates the Hilbert matrix  A of size n,\n",
    "#  A (i, j) = 1 / (i + j - 1)\n",
    "# Inputs:\n",
    "#\tn: size of matrix A, n>=1\n",
    "#\n",
    "#\n",
    "# Usage: hilb(10)\n",
    "#\n",
    "# Pawel Zielinski\n",
    "        if n < 1\n",
    "         error(\"size n should be >= 1\")\n",
    "        end\n",
    "        return [1 / (i + j - 1) for i in 1:n, j in 1:n]\n",
    "end"
   ]
  },
  {
   "cell_type": "code",
   "execution_count": 46,
   "metadata": {},
   "outputs": [
    {
     "name": "stdout",
     "output_type": "stream",
     "text": [
      "Macierz Hilberta:\n",
      "n | Błąd przybliżenia metodą Gaussa | Błąd przybliżenia metodą inwersji | cond(A) | rank(A)\n",
      "2 | 5.661048867003676e-16 | 1.1240151438116956e-15 | 19.28147006790397 | 2\n",
      "5 | 1.6828426299227195e-12 | 8.500055777753297e-12 | 476607.25024259434 | 5\n",
      "8 | 1.026543065687064e-7 | 2.698715074276819e-7 | 1.5257575538060041e10 | 8\n",
      "11 | 0.011543958596122112 | 0.00804446677343116 | 5.222677939280335e14 | 10\n",
      "14 | 5.281004646755168 | 4.800641929017436 | 6.200786263161444e17 | 11\n",
      "17 | 17.742214635179074 | 15.910335962604142 | 1.263684342666052e18 | 12\n",
      "20 | 14.930069669294001 | 21.53949860251383 | 1.3553657908688225e18 | 13\n",
      "23 | 19.168073735741196 | 22.059131843353537 | 6.313778670724671e17 | 13\n",
      "26 | 24.519367683389167 | 34.28575327831834 | 5.838636705219328e18 | 14\n",
      "29 | 74.31967901622606 | 259.70924634707876 | 8.05926200352767e18 | 14\n",
      "Losowa macierz:\n",
      "c | n | Błąd przybliżenia metodą Gaussa | Błąd przybliżenia metodą inwersji | cond(A) | rank(A)\n",
      "1.0 | 5 | 2.2752801345137457e-16 | 9.930136612989092e-17 | 1.0000000000000004 | 5\n",
      "10.0 | 5 | 3.1401849173675503e-16 | 2.6272671962866383e-16 | 10.0 | 5\n",
      "1000.0 | 5 | 2.3114726057765286e-14 | 2.6386477024372468e-14 | 1000.0000000000189 | 5\n",
      "1.0e7 | 5 | 3.7339979417703557e-10 | 3.113564832930953e-10 | 1.00000000075414e7 | 5\n",
      "1.0e12 | 5 | 4.787344663656603e-6 | 3.7665177044142805e-6 | 1.0000327958377865e12 | 5\n",
      "1.0e16 | 5 | 0.06985769612749256 | 0.08589832182607673 | 8.184570392299016e15 | 4\n",
      "1.0 | 10 | 2.016820280180126e-16 | 2.6272671962866383e-16 | 1.0000000000000013 | 10\n",
      "10.0 | 10 | 6.250861277594332e-16 | 6.897693335176787e-16 | 9.999999999999995 | 10\n",
      "1000.0 | 10 | 3.0868592740795907e-14 | 2.9956524742323666e-14 | 999.9999999999807 | 10\n",
      "1.0e7 | 10 | 2.216967101878232e-11 | 2.429254816881707e-11 | 9.999999994372996e6 | 10\n",
      "1.0e12 | 10 | 3.3707956178314476e-6 | 6.90082483023235e-6 | 9.999920394469962e11 | 10\n",
      "1.0e16 | 10 | 0.04482778335433574 | 0.07646227372289963 | 8.12664255413816e15 | 9\n",
      "1.0 | 20 | 6.304854800243424e-16 | 5.307051865840292e-16 | 1.000000000000001 | 20\n",
      "10.0 | 20 | 4.684036072284178e-16 | 2.5918417478740247e-16 | 10.000000000000004 | 20\n",
      "1000.0 | 20 | 4.310468594977076e-15 | 5.109921326480035e-15 | 1000.0000000000314 | 20\n",
      "1.0e7 | 20 | 2.8124739953158063e-10 | 2.747866323018653e-10 | 9.99999999981458e6 | 20\n",
      "1.0e12 | 20 | 5.128337621766999e-5 | 5.0141870264092486e-5 | 9.999895551124769e11 | 20\n",
      "1.0e16 | 20 | 0.0235770367948995 | 0.03384602766747063 | 7.088494983874381e15 | 19\n"
     ]
    }
   ],
   "source": [
    "function count_x(A, n)\n",
    "    x = ones(n, 1)\n",
    "    b = A*x\n",
    "    println(\"$(n) | $(norm(A\\b - x)/norm(x)) | $(norm(inv(A)*b - x)/norm(x)) | $(cond(A)) | $(rank(A))\")\n",
    "end\n",
    "    \n",
    "function matrices()\n",
    "    println(\"Macierz Hilberta:\")\n",
    "    println(\"n | Błąd przybliżenia metodą Gaussa | Błąd przybliżenia metodą inwersji | cond(A) | rank(A)\")\n",
    "    for i in 2:3:30\n",
    "        count_x(hilb(i), i)\n",
    "    end\n",
    "    \n",
    "    println(\"Losowa macierz:\")\n",
    "    println(\"c | n | Błąd przybliżenia metodą Gaussa | Błąd przybliżenia metodą inwersji | cond(A) | rank(A)\")\n",
    "    for i in [5, 10, 20]\n",
    "        for c in [1.0, 10.0, 10.0^3, 10.0^7, 10.0^12, 10.0^16]\n",
    "            print(\"$(c) | \")\n",
    "            count_x(matcond(i, c), i)\n",
    "        end\n",
    "    end\n",
    "end\n",
    "\n",
    "matrices()"
   ]
  },
  {
   "cell_type": "markdown",
   "metadata": {},
   "source": [
    "Dla macierzy Hilberta wraz z rozmiarem macierzy rośnie wskaźnik uwarunkowania macierzy, a co za tym idzie rosną błędy obliczeniowe dla obydwu metod. Rośnie również rząd macierzy. Dla macierzy losowej błędy również wzrastają razem z rozmiarem i wskaźnikiem uwarunkowania macierzy, jednak nie w takim tempie jak błędy przybliżeń dla macierzy Hilberta, a rząd macierzy jest prawie zawsze równy $n$. Zadanie pokazuje, że zadanie rozwiązania układu równań liniowych $\\textbf{Ax} = \\textbf{b}$ jest źle uwarunkowane dla macierzy Hilberta."
   ]
  },
  {
   "cell_type": "markdown",
   "metadata": {},
   "source": [
    "## **Zadanie 4.**\n",
    "\n",
    "Zbadanie własności \"złośliwego\" wielomianu Wilkinsona.\n",
    "\n",
    "**a)** Obliczenie zer wielomianu w postaci naturalnej."
   ]
  },
  {
   "cell_type": "code",
   "execution_count": 1,
   "metadata": {},
   "outputs": [
    {
     "name": "stdout",
     "output_type": "stream",
     "text": [
      "k | z_k | |p(z_k)| | |P(z_k)| | |z_k-k|\n",
      "1 | 0.9999999999996989 | 36626.425482422805 | 35696.50964788257 | 3.0109248427834245e-13\n",
      "2 | 2.0000000000283182 | 181303.93367257662 | 176252.60026668405 | 2.8318236644508943e-11\n",
      "3 | 2.9999999995920965 | 290172.2858891686 | 279157.6968824087 | 4.0790348876384996e-10\n",
      "4 | 3.9999999837375317 | 2.0415372902750901e6 | 3.0271092988991085e6 | 1.626246826091915e-8\n",
      "5 | 5.000000665769791 | 2.0894625006962188e7 | 2.2917473756567076e7 | 6.657697912970661e-7\n",
      "6 | 5.999989245824773 | 1.1250484577562995e8 | 1.2902417284205095e8 | 1.0754175226779239e-5\n",
      "7 | 7.000102002793008 | 4.572908642730946e8 | 4.805112754602064e8 | 0.00010200279300764947\n",
      "8 | 7.999355829607762 | 1.5556459377357383e9 | 1.6379520218961136e9 | 0.0006441703922384079\n",
      "9 | 9.002915294362053 | 4.687816175648389e9 | 4.877071372550003e9 | 0.002915294362052734\n",
      "10 | 9.990413042481725 | 1.2634601896949205e10 | 1.3638638195458128e10 | 0.009586957518274986\n",
      "11 | 11.025022932909318 | 3.300128474498415e10 | 3.585631295130865e10 | 0.025022932909317674\n",
      "12 | 11.953283253846857 | 7.388525665404988e10 | 7.533332360358197e10 | 0.04671674615314281\n",
      "13 | 13.07431403244734 | 1.8476215093144193e11 | 1.9605988124330817e11 | 0.07431403244734014\n",
      "14 | 13.914755591802127 | 3.5514277528420844e11 | 3.5751347823104315e11 | 0.08524440819787316\n",
      "15 | 15.075493799699476 | 8.423201558964254e11 | 8.21627123645597e11 | 0.07549379969947623\n",
      "16 | 15.946286716607972 | 1.570728736625802e12 | 1.5514978880494067e12 | 0.05371328339202819\n",
      "17 | 17.025427146237412 | 3.3169782238892363e12 | 3.694735918486229e12 | 0.025427146237412046\n",
      "18 | 17.99092135271648 | 6.34485314179128e12 | 7.650109016515867e12 | 0.009078647283519814\n",
      "19 | 19.00190981829944 | 1.228571736671966e13 | 1.1435273749721195e13 | 0.0019098182994383706\n",
      "20 | 19.999809291236637 | 2.318309535271638e13 | 2.7924106393680727e13 | 0.00019070876336257925\n"
     ]
    }
   ],
   "source": [
    "using Polynomials\n",
    "\n",
    "function poly(x)\n",
    "    return (x-20)*(x-19)*(x-18)*(x-17)*(x-16)*(x-15)*(x-14)*(x-13)*(x-12)*(x-11)*(x-10)*(x-9)*(x-8)*(x-7)*(x-6)*(x-5)*(x-4)*(x-3)*(x-2)*(x-1)\n",
    "end\n",
    "\n",
    "coefficients = [1, -210.0, 20615.0,-1256850.0,\n",
    "      53327946.0,-1672280820.0, 40171771630.0, -756111184500.0,          \n",
    "      11310276995381.0, -135585182899530.0,\n",
    "      1307535010540395.0,     -10142299865511450.0,\n",
    "      63030812099294896.0,     -311333643161390640.0,\n",
    "      1206647803780373360.0,     -3599979517947607200.0,\n",
    "      8037811822645051776.0,      -12870931245150988800.0,\n",
    "      13803759753640704000.0,      -8752948036761600000.0,\n",
    "      2432902008176640000.0]\n",
    "\n",
    "P = Polynomial(reverse(coefficients))\n",
    "p_roots = roots(P)\n",
    "#p = fromroots(collect(20:-1:1))\n",
    "\n",
    "println(\"k | z_k | |p(z_k)| | |P(z_k)| | |z_k-k|\")\n",
    "\n",
    "for k in 1:20\n",
    "    println(\"$(k) | $(p_roots[k]) | $(abs(poly(p_roots[k]))) | $(abs(P(p_roots[k]))) | $(abs(p_roots[k]-k))\")\n",
    "end"
   ]
  },
  {
   "cell_type": "markdown",
   "metadata": {},
   "source": [
    "Pierwiastki obliczone przez funkcję `roots` nie są dokładne, błędy przybliżenia wahają się od $3.0109248427834245e-13$ do $0.08524440819787316$. Zaimplementowana przeze mnie funkcja `poly(x)` realizująca wielomian $p$ również daje złe wyniki, odbiegające od $0$, ale podobne do wartości $P$. Wartości $P$ też są mocno nieprawidłowe, różnica między dobrym wynikiem, a tym otrzymanym jest większa o kilkanaście rzędów niż różnica między obliczonym pierwiastkiem a faktycznym.\n",
    "\n",
    "**b)** Eksperymennt dla zmodyfikowanego współczynnika -210"
   ]
  },
  {
   "cell_type": "code",
   "execution_count": 2,
   "metadata": {},
   "outputs": [
    {
     "name": "stdout",
     "output_type": "stream",
     "text": [
      "k | z_k | |p(z_k)| | |P(z_k)| | |z_k-k|\n",
      "1 | 0.9999999999998357 + 0.0im | 19987.872313406835 | 20259.872313418207 | 1.6431300764452317e-13\n",
      "2 | 2.0000000000550373 + 0.0im | 352369.4138087958 | 346541.4137593836 | 5.503730804434781e-11\n",
      "3 | 2.99999999660342 + 0.0im | 2.4162415582518433e6 | 2.2580597001197007e6 | 3.3965799062229962e-9\n",
      "4 | 4.000000089724362 + 0.0im | 1.1263702300292023e7 | 1.0542631790395478e7 | 8.972436216225788e-8\n",
      "5 | 4.99999857388791 + 0.0im | 4.475744423806908e7 | 3.757830916585153e7 | 1.4261120897529622e-6\n",
      "6 | 6.000020476673031 + 0.0im | 2.1421031658039317e8 | 1.3140943325569446e8 | 2.0476673030955794e-5\n",
      "7 | 6.99960207042242 + 0.0im | 1.7846173427860644e9 | 3.939355874647618e8 | 0.00039792957757978087\n",
      "8 | 8.007772029099446 + 0.0im | 1.8686972170009857e10 | 1.184986961371896e9 | 0.007772029099445632\n",
      "9 | 8.915816367932559 + 0.0im | 1.3746309775142993e11 | 2.2255221233077707e9 | 0.0841836320674414\n",
      "10 | 10.095455630535774 - 0.6449328236240688im | 1.490069535200058e12 | 1.0677921232930157e10 | 0.6519586830380407\n",
      "11 | 10.095455630535774 + 0.6449328236240688im | 1.490069535200058e12 | 1.0677921232930157e10 | 1.1109180272716561\n",
      "12 | 11.793890586174369 - 1.6524771364075785im | 3.2962792355717145e13 | 3.1401962344429485e10 | 1.665281290598479\n",
      "13 | 11.793890586174369 + 1.6524771364075785im | 3.2962792355717145e13 | 3.1401962344429485e10 | 2.0458202766784277\n",
      "14 | 13.992406684487216 - 2.5188244257108443im | 9.546022365750216e14 | 2.157665405951858e11 | 2.518835871190904\n",
      "15 | 13.992406684487216 + 2.5188244257108443im | 9.546022365750216e14 | 2.157665405951858e11 | 2.7128805312847097\n",
      "16 | 16.73074487979267 - 2.812624896721978im | 2.742106076928478e16 | 4.850110893921027e11 | 2.9060018735375106\n",
      "17 | 16.73074487979267 + 2.812624896721978im | 2.742106076928478e16 | 4.850110893921027e11 | 2.825483521349608\n",
      "18 | 19.5024423688181 - 1.940331978642903im | 4.2524858765203725e17 | 4.557199223869993e12 | 2.4540214463129764\n",
      "19 | 19.5024423688181 + 1.940331978642903im | 4.2524858765203725e17 | 4.557199223869993e12 | 2.0043294443099486\n",
      "20 | 20.84691021519479 + 0.0im | 1.37437435599976e18 | 8.756386551865696e12 | 0.8469102151947894\n"
     ]
    }
   ],
   "source": [
    "coefficients_mod = [1, -210.0-2^(-23), 20615.0,-1256850.0,\n",
    "      53327946.0,-1672280820.0, 40171771630.0, -756111184500.0,          \n",
    "      11310276995381.0, -135585182899530.0,\n",
    "      1307535010540395.0,     -10142299865511450.0,\n",
    "      63030812099294896.0,     -311333643161390640.0,\n",
    "      1206647803780373360.0,     -3599979517947607200.0,\n",
    "      8037811822645051776.0,      -12870931245150988800.0,\n",
    "      13803759753640704000.0,      -8752948036761600000.0,\n",
    "      2432902008176640000.0]\n",
    "\n",
    "P = Polynomial(reverse(coefficients_mod))\n",
    "p_roots = roots(P)\n",
    "\n",
    "println(\"k | z_k | |p(z_k)| | |P(z_k)| | |z_k-k|\")\n",
    "for k in 1:20\n",
    "    println(\"$(k) | $(p_roots[k]) | $(abs(poly(p_roots[k]))) | $(abs(P(p_roots[k]))) | $(abs(p_roots[k]-k))\")\n",
    "end"
   ]
  },
  {
   "cell_type": "markdown",
   "metadata": {},
   "source": [
    "Zaburzenie współczynnika $-210$ spowodowało, że obliczone przez funkcję `roots` pierwiastki są zespolone. Zadanie jest na tyle źle uwarunkowane, że aż wypadliśmy z dziedziny rozwiązania. Naturalnie również wzrosły różnice między otrzymanymi pierwiastkami, a tymi faktycznymi."
   ]
  },
  {
   "cell_type": "markdown",
   "metadata": {},
   "source": [
    "## **Zadanie 5.**\n",
    "\n",
    "Eksperymenty z równaniem rekurencyjnym $p_{n+1} := p_n + rp_n(1−p_n)$."
   ]
  },
  {
   "cell_type": "code",
   "execution_count": 49,
   "metadata": {},
   "outputs": [
    {
     "name": "stdout",
     "output_type": "stream",
     "text": [
      "Bez obcięcia: 0.25860548 Z obcięciem: 1.093568\n",
      "Float32: 0.25860548 Float64: 0.011611238029748606\n"
     ]
    }
   ],
   "source": [
    "function iter(p0, r, n, art_type)\n",
    "    for i in 1:n\n",
    "        p0 += art_type(r*p0*(art_type(1.0)-p0))\n",
    "    end\n",
    "    return art_type(p0)\n",
    "end\n",
    "\n",
    "function experiment1()\n",
    "    p1 = iter(Float32(0.01), Float32(3), 40, Float32)\n",
    "    p2 = iter(Float32(0.01), Float32(3), 10, Float32)\n",
    "    p2 = Float32(trunc(p2; digits=3))\n",
    "    p2 = iter(p2, Float32(3), 30, Float32)\n",
    "    println(\"Bez obcięcia: $(p1) Z obcięciem: $(p2)\")\n",
    "end\n",
    "\n",
    "function experiment2()\n",
    "    p1 = iter(Float32(0.01), Float32(3), 40, Float32)\n",
    "    p2 = iter(Float64(0.01), Float64(3), 40, Float64)\n",
    "    println(\"Float32: $(p1) Float64: $(p2)\")\n",
    "end\n",
    "\n",
    "experiment1()\n",
    "experiment2()"
   ]
  },
  {
   "cell_type": "markdown",
   "metadata": {},
   "source": [
    "Zadanie pokazuje jak wielki wpływ na rozwiązanie ma zastosowana arytmetyka. Także widać jak duże znaczenie ma zaburzenie wyniku pośredniego dla wyniku końcowego."
   ]
  },
  {
   "cell_type": "markdown",
   "metadata": {},
   "source": [
    "## **Zadanie 6.**\n",
    "\n",
    "Eksperymenty z równaniem rekurencyjnym $x_{n+1} := x_n^2+c$"
   ]
  },
  {
   "cell_type": "code",
   "execution_count": 50,
   "metadata": {},
   "outputs": [],
   "source": [
    "using DelimitedFiles\n",
    "\n",
    "function iter2(c::Float64, x::Float64)\n",
    "    result = zeros(Float64, 0)\n",
    "    for i in 1:40\n",
    "        x = Float64(x*x) + c\n",
    "        append!(result, x)\n",
    "    end\n",
    "    return result\n",
    "end\n",
    "\n",
    "function experiment()\n",
    "    p = [(-2.0, 1.0), (-2.0, 2.0), (-2.0, 1.99999999999999), (-1.0, 1.0), (-1.0, -1.0), (-1.0, 0.75), (-1.0, 0.25)]\n",
    "    for (n, t) in enumerate(p)\n",
    "        res = iter2(t...)\n",
    "        open(\"z6w$(n).txt\", \"w\") do io \n",
    "            writedlm(io, res) \n",
    "        end\n",
    "    end\n",
    "    \n",
    "end\n",
    "\n",
    "experiment()    "
   ]
  },
  {
   "cell_type": "markdown",
   "metadata": {},
   "source": [
    "![w1](./w1.jpg)\n",
    "\n",
    "![w2](./w2.jpg)\n",
    "\n",
    "![w3](./w3.jpg)\n",
    "\n",
    "![w4](./w4.jpg)\n",
    "\n",
    "![w5](./w5.jpg)\n",
    "\n",
    "![w6](./w6.jpg)\n",
    "\n",
    "![w7](./w7.jpg)\n",
    "\n"
   ]
  },
  {
   "cell_type": "markdown",
   "metadata": {},
   "source": [
    "Dla danych początkowych $1$, $2$, $4$, $5$ wyniki są zgodne z oczekiwaniami. Dla danych $3$ wyniki kompletnie się rozjeżdżają i są rozproszone - można było się spodziewać czegoś podobnego do wykresu dla danych $2$, ponieważ mają takie samo $c$ i bardzo bliskie $x_0$, tymczasem okazało się, że niewielkie zaburzenie danych wejściowych miało duży wpływ na wynik. Dla danych $6$ i $7$ z kolei po kilku iteracjach pojawił się błąd zaokrąglenia, przez co wykres wpadł w cykl $\\{-1, 1\\}$."
   ]
  }
 ],
 "metadata": {
  "kernelspec": {
   "display_name": "Julia 1.5.2",
   "language": "julia",
   "name": "julia-1.5"
  },
  "language_info": {
   "file_extension": ".jl",
   "mimetype": "application/julia",
   "name": "julia",
   "version": "1.5.2"
  }
 },
 "nbformat": 4,
 "nbformat_minor": 4
}
