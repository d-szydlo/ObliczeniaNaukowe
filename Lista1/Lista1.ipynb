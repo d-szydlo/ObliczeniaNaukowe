{
 "cells": [
  {
   "cell_type": "markdown",
   "metadata": {},
   "source": [
    "# **Obliczenia naukowe, lista 1**\n",
    "## Dominika Szydło, 250109\n",
    "\n",
    "## **Zadanie 1.**\n",
    "\n",
    "### Epsilon maszynowy\n",
    "Wyznaczenie liczby *macheps*, która jest odległością $1.0$ od kolejnej liczby $(x, x >1)$, reprezentowanej w arytmetyce zmiennopozycyjnej (kolejnej liczby maszynowej). Porównanie z wartościami zwracanymi przez funkcje: `eps(Float16)`, `eps(Float32)`, `eps(Float64)` oraz z danymi zawartymi w pliku nagłówkowym `float.h` dowolnej instalacji języka C."
   ]
  },
  {
   "cell_type": "code",
   "execution_count": 67,
   "metadata": {},
   "outputs": [
    {
     "name": "stdout",
     "output_type": "stream",
     "text": [
      "Float16:\n",
      "\tmacheps wyliczony: 0.000977\n",
      "\teps(Float16): 0.000977\n",
      "Float32:\n",
      "\tmacheps wyliczony: 1.1920929e-7\n",
      "\teps(Float32): 1.1920929e-7\n",
      "Float64:\n",
      "\tmacheps wyliczony: 2.220446049250313e-16\n",
      "\teps(Float64): 2.220446049250313e-16\n"
     ]
    }
   ],
   "source": [
    "function get_macheps(art_type)\n",
    "    macheps::art_type = 1.0\n",
    "    one::art_type = 1.0\n",
    "    two::art_type = 2.0\n",
    "    \n",
    "    while one + macheps > one\n",
    "            macheps /= two\n",
    "    end\n",
    "    macheps *= two\n",
    "    return macheps\n",
    "end\n",
    "\n",
    "println(\"Float16:\\n\\tmacheps wyliczony: $(get_macheps(Float16))\\n\\teps(Float16): $(eps(Float16))\")\n",
    "println(\"Float32:\\n\\tmacheps wyliczony: $(get_macheps(Float32))\\n\\teps(Float32): $(eps(Float32))\")\n",
    "println(\"Float64:\\n\\tmacheps wyliczony: $(get_macheps(Float64))\\n\\teps(Float64): $(eps(Float64))\")"
   ]
  },
  {
   "cell_type": "markdown",
   "metadata": {},
   "source": [
    "![c_eps](./eps.png)\n",
    "\n",
    "\n",
    "Wyliczone eksperymentalnie wartości zgadzają się z wartościami zwracanymi przez wbudowane funkcje języka Julia. Wartości z biblioteki float.h znajdują się w pliku eps.png.\n",
    "\n",
    "Epsilon maszynowy jest dwa razy większy od precyzji arytmetyki. Jest tak dlatego, że jeżeli odległość między dwoma kolejnymi liczbami maszynowymi wynosi *macheps*, to maksymalny błąd przedstawienia liczby w danej arytmetyce jaki możemy popełnić, to połowa tejże właśnie odległości."
   ]
  },
  {
   "cell_type": "markdown",
   "metadata": {},
   "source": [
    "### Eta\n",
    "Wyznaczenie iteracyjnie najmniejszej liczby maszynowej $\\eta$ takiej, że $(\\eta > 0.0)$ dla wszystkich typów zmiennopozycyjnych `Float16`, `Float32`, `Float64` i porównanie z wartościami zwracanymi przez funkcje: `nextfloat(Float16(0.0))`, `nextfloat(Float32(0.0))`, `nextfloat(Float64(0.0))`."
   ]
  },
  {
   "cell_type": "code",
   "execution_count": 68,
   "metadata": {},
   "outputs": [
    {
     "name": "stdout",
     "output_type": "stream",
     "text": [
      "Float16:\n",
      "\teta wyliczona: 6.0e-8\n",
      "\tnextfloat(Float16(0.0)): 6.0e-8\n",
      "Float32:\n",
      "\teta wyliczona: 1.0e-45\n",
      "\tnextfloat(Float32(0.0)): 1.0e-45\n",
      "Float64:\n",
      "\teta wyliczona: 5.0e-324\n",
      "\tnextfloat(Float64(0.0)): 5.0e-324\n"
     ]
    }
   ],
   "source": [
    "function get_eta(art_type)\n",
    "    eta::art_type = 1.0\n",
    "    zero::art_type = 0.0\n",
    "    two::art_type = 2.0\n",
    "    \n",
    "    while eta/two > zero\n",
    "            eta /= two\n",
    "    end\n",
    "    return eta\n",
    "end\n",
    "\n",
    "println(\"Float16:\\n\\teta wyliczona: $(get_eta(Float16))\\n\\tnextfloat(Float16(0.0)): $(nextfloat(Float16(0.0)))\")\n",
    "println(\"Float32:\\n\\teta wyliczona: $(get_eta(Float32))\\n\\tnextfloat(Float32(0.0)): $(nextfloat(Float32(0.0)))\")\n",
    "println(\"Float64:\\n\\teta wyliczona: $(get_eta(Float64))\\n\\tnextfloat(Float64(0.0)): $(nextfloat(Float64(0.0)))\")"
   ]
  },
  {
   "cell_type": "markdown",
   "metadata": {},
   "source": [
    "Wyliczone eksperymentalnie wartości zgadzają się z wartościami zwracanymi przez wbudowane funkcje języka Julia.\n",
    "\n",
    "Liczba $\\eta$ jest równa liczbie $MIN_{sub}$."
   ]
  },
  {
   "cell_type": "code",
   "execution_count": 69,
   "metadata": {},
   "outputs": [
    {
     "name": "stdout",
     "output_type": "stream",
     "text": [
      "1.1754944e-38\n",
      "2.2250738585072014e-308\n"
     ]
    }
   ],
   "source": [
    "println(floatmin(Float32))\n",
    "println(floatmin(Float64))"
   ]
  },
  {
   "cell_type": "markdown",
   "metadata": {},
   "source": [
    "Powyższe wartości są równe wartości $MIN_{sub}$ dla odpowiedniej arytmetyki."
   ]
  },
  {
   "cell_type": "markdown",
   "metadata": {},
   "source": [
    "### MAX\n",
    "Wyznaczenie iteracyjnie liczby $MAX$ dla wszystkich typów zmiennopozycyjnych `Float16`, `Float32`, `Float64` i porównanie z wartościami zwracanymi przez funkcje: `floatmax(Float16)`, `floatmax(Float32)`, `floatmax(Float64)`oraz z danymi zawartymi w pliku nagłówkowym `float.h` dowolnej instalacji języka C."
   ]
  },
  {
   "cell_type": "code",
   "execution_count": 70,
   "metadata": {},
   "outputs": [
    {
     "name": "stdout",
     "output_type": "stream",
     "text": [
      "Float16:\n",
      "\tmax wyliczony: 6.55e4\n",
      "\tfloatmax(Float16): 6.55e4\n",
      "Float32:\n",
      "\tmax wyliczony: 3.4028235e38\n",
      "\tfloatmax(Float32): 3.4028235e38\n",
      "Float32:\n",
      "\tmax wyliczony: 1.7976931348623157e308\n",
      "\tfloatmax(Float64): 1.7976931348623157e308\n"
     ]
    }
   ],
   "source": [
    "function get_max(art_type)\n",
    "    two::art_type = 2.0\n",
    "    \n",
    "    max = prevfloat(one(art_type))\n",
    "    \n",
    "    while !isinf(max*two)\n",
    "            max *= two\n",
    "    end\n",
    "    \n",
    "    return max\n",
    "    \n",
    "end\n",
    "\n",
    "println(\"Float16:\\n\\tmax wyliczony: $(get_max(Float16))\\n\\tfloatmax(Float16): $(floatmax(Float16))\")\n",
    "println(\"Float32:\\n\\tmax wyliczony: $(get_max(Float32))\\n\\tfloatmax(Float32): $(floatmax(Float32))\")\n",
    "println(\"Float32:\\n\\tmax wyliczony: $(get_max(Float64))\\n\\tfloatmax(Float64): $(floatmax(Float64))\")"
   ]
  },
  {
   "cell_type": "markdown",
   "metadata": {},
   "source": [
    "![c_max](./max.png)\n",
    "Wyliczone eksperymentalnie wartości zgadzają się z wartościami zwracanymi przez wbudowane funkcje języka Julia. Wartości z biblioteki float.h znajdują się w pliku max.png.\n",
    "\n",
    "**Wnioski:** Arytmetyka IEEE-754 ma pewne ograniczenia, które trzeba brać pod uwagę, jeżeli chce się otrzymać dokładne wyniki obliczeń."
   ]
  },
  {
   "cell_type": "markdown",
   "metadata": {},
   "source": [
    "## **Zadanie 2.**\n",
    "\n",
    "Sprawdzenie eksperymentalnie słuszności stwierdzenia Kahana dla wszystkich typów zmiennopozycyjnych `Float16`, `Float32`, `Float64`."
   ]
  },
  {
   "cell_type": "code",
   "execution_count": 71,
   "metadata": {},
   "outputs": [
    {
     "name": "stdout",
     "output_type": "stream",
     "text": [
      "Float16:\n",
      "\twyrażenie wyliczone: -0.000977\n",
      "\teps(Float16): 0.000977\n",
      "Float32:\n",
      "\twyrażenie wyliczone: 1.1920929e-7\n",
      "\teps(Float32): 1.1920929e-7\n",
      "Float64:\n",
      "\twyrażenie wyliczone: -2.220446049250313e-16\n",
      "\teps(Float64): 2.220446049250313e-16\n"
     ]
    }
   ],
   "source": [
    "function check_kahan(art_type)\n",
    "    one::art_type = 1.0\n",
    "    three::art_type = 3.0\n",
    "    four::art_type = 4.0\n",
    "    \n",
    "    return three*(four/three-one)-one\n",
    "    \n",
    "end\n",
    "\n",
    "println(\"Float16:\\n\\twyrażenie wyliczone: $(check_kahan(Float16))\\n\\teps(Float16): $(eps(Float16))\")\n",
    "println(\"Float32:\\n\\twyrażenie wyliczone: $(check_kahan(Float32))\\n\\teps(Float32): $(eps(Float32))\")\n",
    "println(\"Float64:\\n\\twyrażenie wyliczone: $(check_kahan(Float64))\\n\\teps(Float64): $(eps(Float64))\")"
   ]
  },
  {
   "cell_type": "markdown",
   "metadata": {},
   "source": [
    "**Wnioski:** Jeżeli na wyrażenie nałożyłoby się wartość bezwzględną, to stwierdzenie jest jak najbardziej prawdziwe."
   ]
  },
  {
   "cell_type": "markdown",
   "metadata": {},
   "source": [
    "## **Zadanie 3.**\n",
    "\n",
    "Sprawdzenie eksperymentalnie, że w arytmetyce `Float64` liczby zmiennopozycyjne są równomiernie rozmieszczone w $[1,2]$ z krokiem $\\delta = 2^{-52}$. Wyznaczenie kroku z jakim rozmieszczone są liczby z przedziału $[0.5,1]$ oraz $[2,4]$."
   ]
  },
  {
   "cell_type": "code",
   "execution_count": 72,
   "metadata": {},
   "outputs": [
    {
     "name": "stdout",
     "output_type": "stream",
     "text": [
      "Początek: 1, krok: 2^(-52)\n",
      "0011111111110000000000000000000000000000000000000000000000000001\n",
      "0011111111110000000000000000000000000000000000000000000000000010\n",
      "0011111111110000000000000000000000000000000000000000000000000011\n",
      "0011111111110000000000000000000000000000000000000000000000000100\n",
      "0011111111110000000000000000000000000000000000000000000000000101\n",
      "0011111111110000000000000000000000000000000000000000000000000110\n",
      "0011111111110000000000000000000000000000000000000000000000000111\n",
      "0011111111110000000000000000000000000000000000000000000000001000\n",
      "0011111111110000000000000000000000000000000000000000000000001001\n",
      "Początek: 0.5, krok: 2^(-53)\n",
      "0011111111100000000000000000000000000000000000000000000000000001\n",
      "0011111111100000000000000000000000000000000000000000000000000010\n",
      "0011111111100000000000000000000000000000000000000000000000000011\n",
      "0011111111100000000000000000000000000000000000000000000000000100\n",
      "0011111111100000000000000000000000000000000000000000000000000101\n",
      "0011111111100000000000000000000000000000000000000000000000000110\n",
      "0011111111100000000000000000000000000000000000000000000000000111\n",
      "0011111111100000000000000000000000000000000000000000000000001000\n",
      "0011111111100000000000000000000000000000000000000000000000001001\n",
      "Początek: 2, krok: 2^(-51)\n",
      "0100000000000000000000000000000000000000000000000000000000000001\n",
      "0100000000000000000000000000000000000000000000000000000000000010\n",
      "0100000000000000000000000000000000000000000000000000000000000011\n",
      "0100000000000000000000000000000000000000000000000000000000000100\n",
      "0100000000000000000000000000000000000000000000000000000000000101\n",
      "0100000000000000000000000000000000000000000000000000000000000110\n",
      "0100000000000000000000000000000000000000000000000000000000000111\n",
      "0100000000000000000000000000000000000000000000000000000000001000\n",
      "0100000000000000000000000000000000000000000000000000000000001001\n"
     ]
    }
   ],
   "source": [
    "function check_delta(beg, step, k_max)\n",
    "    delta::Float64 = step\n",
    "    start::Float64 = beg\n",
    "    k::Float64 = 1.0\n",
    "    done::Float64 = k_max\n",
    "    one::Float64 = 1.0\n",
    "    \n",
    "    while k < done\n",
    "        println(bitstring(start+k*delta))\n",
    "        k += one\n",
    "    end\n",
    "end\n",
    "\n",
    "println(\"Początek: 1, krok: 2^(-52)\")\n",
    "check_delta(1.0, 2^(-52), 10)\n",
    "println(\"Początek: 0.5, krok: 2^(-53)\")\n",
    "check_delta(0.5, 2^(-53), 10)\n",
    "println(\"Początek: 2, krok: 2^(-51)\")\n",
    "check_delta(2.0, 2^(-51), 10)"
   ]
  },
  {
   "cell_type": "markdown",
   "metadata": {},
   "source": [
    "**Wnioski:** Liczby o takiej samej cesze są równomiernie rozmieszczone. Krok między liczbami wzrasta razem z cechą, ponieważ liczba bitów mantysy jest stała, a zatem dla każdej cechy jesteśmy w stanie przedstawić taką samą liczbę liczb."
   ]
  },
  {
   "cell_type": "markdown",
   "metadata": {},
   "source": [
    "## **Zadanie 4.**\n",
    "\n",
    "**a)** Znalezienie eksperymentalnie w arytmetyce `Float64` liczby zmiennopozycyjnej $x$ w przedziale $1 < x < 2$, taką, że $x∗(\\frac{1}{x}) \\ne 1$; tj. $fl(x*fl(\\frac{1}{x})) \\ne 1$."
   ]
  },
  {
   "cell_type": "code",
   "execution_count": 73,
   "metadata": {},
   "outputs": [
    {
     "name": "stdout",
     "output_type": "stream",
     "text": [
      "1.5000000000000002\n"
     ]
    }
   ],
   "source": [
    "function find_x(start)\n",
    "    x::Float64 = start\n",
    "    two::Float64 = 2.0\n",
    "    \n",
    "    while x*(1/x) == 1.0 && x < two\n",
    "        x = nextfloat(x)\n",
    "    end\n",
    "    return x\n",
    "end\n",
    "\n",
    "println(find_x(1.5))"
   ]
  },
  {
   "cell_type": "markdown",
   "metadata": {},
   "source": [
    "**b)** Znalezienie najmniejszej takiej liczby."
   ]
  },
  {
   "cell_type": "code",
   "execution_count": 74,
   "metadata": {},
   "outputs": [
    {
     "name": "stdout",
     "output_type": "stream",
     "text": [
      "1.000000057228997\n"
     ]
    }
   ],
   "source": [
    "println(find_x(1.0))"
   ]
  },
  {
   "cell_type": "markdown",
   "metadata": {},
   "source": [
    "**Wnioski:** Poznajemy kolejne ograniczenia arytmetyki IEEE-754 - wiele liczb przedstawialnych dokładnie np. w systemie dziesiętnym ma nieskończone rozwinięcie w systemie binarnym, zatem nie mogą być dokładnie reprezentowane, co pociąga za sobą błędy, m.in. takie jak w tym zadaniu."
   ]
  },
  {
   "cell_type": "markdown",
   "metadata": {},
   "source": [
    "## **Zadanie 5.**\n",
    "\n",
    "Eksperyment obliczania iloczynu skalarnego dwóch wektorów: $x =  [2.718281828, −3.141592654, 1.414213562, 0.5772156649, 0.3010299957]$, $y =  [1486.2497, 878366.9879, −22.37492, 4773714.647, 0.000185049]$.\n",
    "\n",
    "**a)** sposób \"w przód\""
   ]
  },
  {
   "cell_type": "code",
   "execution_count": 75,
   "metadata": {},
   "outputs": [
    {
     "name": "stdout",
     "output_type": "stream",
     "text": [
      "Float32: s = -0.12593332 różnica: 0.12593331932014976\n",
      "Float64: s = 1.0251881368296672e-10 różnica: 1.1258452438296672e-10\n"
     ]
    }
   ],
   "source": [
    "x = [2.718281828, -3.141592654, 1.414213562, 0.5772156649, 0.3010299957]\n",
    "y = [1486.2497, 878366.9879, -22.37492, 4773714.647, 0.000185049]\n",
    "actual = -1.00657107000000*10^(-11)\n",
    "\n",
    "function count_forward(x, y, art_type)\n",
    "    s::art_type = 0.0\n",
    "    for i in 1:length(x)\n",
    "        s += x[i]*y[i]\n",
    "    end\n",
    "    return s\n",
    "end\n",
    "\n",
    "println(\"Float32: s = $(count_forward(x, y, Float32)) różnica: $(abs(count_forward(x, y, Float32)-actual))\")\n",
    "println(\"Float64: s = $(count_forward(x, y, Float64)) różnica: $(abs(count_forward(x, y, Float64)-actual))\")"
   ]
  },
  {
   "cell_type": "markdown",
   "metadata": {},
   "source": [
    "**b)** sposób \"w tył\""
   ]
  },
  {
   "cell_type": "code",
   "execution_count": 76,
   "metadata": {},
   "outputs": [
    {
     "name": "stdout",
     "output_type": "stream",
     "text": [
      "Float32: s = -0.23105995 różnica: 0.2310599535603002\n",
      "Float64: s = -1.5643308870494366e-10 różnica: 1.4636737800494365e-10\n"
     ]
    }
   ],
   "source": [
    "println(\"Float32: s = $(count_forward(reverse(x), reverse(y), Float32)) różnica: $(abs(count_forward(reverse(x), reverse(y), Float32)-actual))\")\n",
    "println(\"Float64: s = $(count_forward(reverse(x), reverse(y), Float64)) różnica: $(abs(count_forward(reverse(x), reverse(y), Float64)-actual))\")"
   ]
  },
  {
   "cell_type": "markdown",
   "metadata": {},
   "source": [
    "**c)** od największego do najmniejszego"
   ]
  },
  {
   "cell_type": "code",
   "execution_count": 77,
   "metadata": {},
   "outputs": [
    {
     "name": "stdout",
     "output_type": "stream",
     "text": [
      "Float32: s = -0.25 różnica: 0.2499999999899343\n",
      "Float64: s = 0.0 różnica: 1.0065710700000004e-11\n"
     ]
    }
   ],
   "source": [
    "function from_big(x, y, art_type)\n",
    "    pos = zeros(art_type, 0)\n",
    "    neg = zeros(art_type, 0)\n",
    "    \n",
    "    for i in 1:length(x)\n",
    "        prod::art_type = x[i]*y[i]\n",
    "        if prod > 0.0\n",
    "            append!(pos, prod)\n",
    "        else\n",
    "            append!(neg, prod)\n",
    "        end\n",
    "    end\n",
    "    return sum(reverse(sort(pos))) + sum(sort(neg))\n",
    "end\n",
    "\n",
    "println(\"Float32: s = $(from_big(x,y,Float32)) różnica: $(abs(from_big(x,y,Float32)-actual))\")\n",
    "println(\"Float64: s = $(from_big(x,y,Float64)) różnica: $(abs(from_big(x,y,Float64)-actual))\")"
   ]
  },
  {
   "cell_type": "markdown",
   "metadata": {},
   "source": [
    "**d)** od najmniejszego do największego"
   ]
  },
  {
   "cell_type": "code",
   "execution_count": 78,
   "metadata": {},
   "outputs": [
    {
     "name": "stdout",
     "output_type": "stream",
     "text": [
      "Float32: s = -0.25 różnica: 0.2499999999899343\n",
      "Float64: s = 0.0 różnica: 1.0065710700000004e-11\n"
     ]
    }
   ],
   "source": [
    "function from_small(x, y, art_type)\n",
    "    pos = zeros(art_type, 0)\n",
    "    neg = zeros(art_type, 0)\n",
    "    \n",
    "    for i in 1:length(x)\n",
    "        prod::art_type = x[i]*y[i]\n",
    "        if prod > 0.0\n",
    "            append!(pos, prod)\n",
    "        else\n",
    "            append!(neg, prod)\n",
    "        end\n",
    "    end\n",
    "    return sum(sort(pos)) + sum(reverse(sort(neg)))\n",
    "end\n",
    "\n",
    "println(\"Float32: s = $(from_small(x,y,Float32)) różnica: $(abs(from_small(x,y,Float32)-actual))\")\n",
    "println(\"Float64: s = $(from_small(x,y,Float64)) różnica: $(abs(from_small(x,y,Float64)-actual))\")"
   ]
  },
  {
   "cell_type": "markdown",
   "metadata": {},
   "source": [
    "**Wnioski:** Poznajemy zaskakującą własność arytmetyki IEEE-754 - dodawanie w niej nie jest przemienne."
   ]
  },
  {
   "cell_type": "markdown",
   "metadata": {},
   "source": [
    "## **Zadanie 6.**\n",
    "\n",
    "Obliczenie w arytmetyce `Float64` wartości funkcji $f(x) = \\sqrt{x^2+1}−1$ oraz $g(x) = \\frac{x^2}{\\sqrt{x^2+1} + 1}$."
   ]
  },
  {
   "cell_type": "code",
   "execution_count": 79,
   "metadata": {},
   "outputs": [
    {
     "name": "stdout",
     "output_type": "stream",
     "text": [
      "x: 0.125 f(x): 0.0077822185373186414 g(x): 0.0077822185373187065\n",
      "x: 0.015625 f(x): 0.00012206286282867573 g(x): 0.00012206286282875901\n",
      "x: 0.001953125 f(x): 1.9073468138230965e-6 g(x): 1.907346813826566e-6\n",
      "x: 0.000244140625 f(x): 2.9802321943606103e-8 g(x): 2.9802321943606116e-8\n",
      "x: 3.0517578125e-5 f(x): 4.656612873077393e-10 g(x): 4.6566128719931904e-10\n",
      "x: 3.814697265625e-6 f(x): 7.275957614183426e-12 g(x): 7.275957614156956e-12\n",
      "x: 4.76837158203125e-7 f(x): 1.1368683772161603e-13 g(x): 1.1368683772160957e-13\n",
      "x: 5.960464477539063e-8 f(x): 1.7763568394002505e-15 g(x): 1.7763568394002489e-15\n",
      "x: 7.450580596923828e-9 f(x): 0.0 g(x): 2.7755575615628914e-17\n",
      "x: 9.313225746154785e-10 f(x): 0.0 g(x): 4.336808689942018e-19\n",
      "x: 1.1641532182693481e-10 f(x): 0.0 g(x): 6.776263578034403e-21\n",
      "x: 1.4551915228366852e-11 f(x): 0.0 g(x): 1.0587911840678754e-22\n"
     ]
    }
   ],
   "source": [
    "function f(x::Float64)\n",
    "    return (x^2+1)^0.5-1\n",
    "end\n",
    "\n",
    "function g(x::Float64)\n",
    "    return x^2/((x^2+1)^0.5+1)\n",
    "end\n",
    "\n",
    "function count_funcs(num)\n",
    "    x::Float64 = 1/8\n",
    "    for i in 1:num\n",
    "        println(\"x: $(x) f(x): $(f(x)) g(x): $(g(x))\")\n",
    "        x /= 8\n",
    "    end\n",
    "end\n",
    "\n",
    "count_funcs(12)"
   ]
  },
  {
   "cell_type": "markdown",
   "metadata": {},
   "source": [
    "Wiarygodne są wartości funkcji $g$, ponieważ w funkcji $f$ dla małych wartości $x$ następuje redukcja cyfr znaczących, co sprawia, że wynik jest niedokładny.\n",
    "\n",
    "**Wnioski:** Powinno się unikać odejmowania czy dodawania liczb bardzo bliskich sobie, ponieważ ryzykujemy utratą cyfr znaczących, a przez to niedokładym wynikiem."
   ]
  },
  {
   "cell_type": "markdown",
   "metadata": {},
   "source": [
    "## **Zadanie 7.**\n",
    "\n",
    "Obliczenie przybliżonej wartości pochodnej $f(x) = sin(x) + cos(3x)$ w punkcie $x_0$ za pomocą wzoru $\\tilde{f'}(x_0) = \\frac{f(x_0+h) - f(x_0)}{h}$"
   ]
  },
  {
   "cell_type": "code",
   "execution_count": 80,
   "metadata": {},
   "outputs": [
    {
     "name": "stdout",
     "output_type": "stream",
     "text": [
      "wartość wyliczona: 2.0179892252685967 błąd: 1.9010469435800585\n",
      "wartość wyliczona: 1.8704413979316472 błąd: 1.753499116243109\n",
      "wartość wyliczona: 1.1077870952342974 błąd: 0.9908448135457593\n",
      "wartość wyliczona: 0.6232412792975817 błąd: 0.5062989976090435\n",
      "wartość wyliczona: 0.3704000662035192 błąd: 0.253457784514981\n",
      "wartość wyliczona: 0.24344307439754687 błąd: 0.1265007927090087\n",
      "wartość wyliczona: 0.18009756330732785 błąd: 0.0631552816187897\n",
      "wartość wyliczona: 0.1484913953710958 błąd: 0.03154911368255764\n",
      "wartość wyliczona: 0.1327091142805159 błąd: 0.015766832591977753\n",
      "wartość wyliczona: 0.1248236929407085 błąd: 0.007881411252170345\n",
      "wartość wyliczona: 0.12088247681106168 błąd: 0.0039401951225235265\n",
      "wartość wyliczona: 0.11891225046883847 błąd: 0.001969968780300313\n",
      "wartość wyliczona: 0.11792723373901026 błąd: 0.0009849520504721099\n",
      "wartość wyliczona: 0.11743474961076572 błąd: 0.0004924679222275685\n",
      "wartość wyliczona: 0.11718851362093119 błąd: 0.0002462319323930373\n",
      "wartość wyliczona: 0.11706539714577957 błąd: 0.00012311545724141837\n",
      "wartość wyliczona: 0.11700383928837255 błąd: 6.155759983439424e-5\n",
      "wartość wyliczona: 0.11697306045971345 błąd: 3.077877117529937e-5\n",
      "wartość wyliczona: 0.11695767106721178 błąd: 1.5389378673624776e-5\n",
      "wartość wyliczona: 0.11694997636368498 błąd: 7.694675146829866e-6\n",
      "wartość wyliczona: 0.11694612901192158 błąd: 3.8473233834324105e-6\n",
      "wartość wyliczona: 0.1169442052487284 błąd: 1.9235601902423127e-6\n",
      "wartość wyliczona: 0.11694324295967817 błąd: 9.612711400208696e-7\n",
      "wartość wyliczona: 0.11694276239722967 błąd: 4.807086915192826e-7\n",
      "wartość wyliczona: 0.11694252118468285 błąd: 2.394961446938737e-7\n",
      "wartość wyliczona: 0.116942398250103 błąd: 1.1656156484463054e-7\n",
      "wartość wyliczona: 0.11694233864545822 błąd: 5.6956920069239914e-8\n",
      "wartość wyliczona: 0.11694231629371643 błąd: 3.460517827846843e-8\n",
      "wartość wyliczona: 0.11694228649139404 błąd: 4.802855890773117e-9\n",
      "wartość wyliczona: 0.11694222688674927 błąd: 5.480178888461751e-8\n",
      "wartość wyliczona: 0.11694216728210449 błąd: 1.1440643366000813e-7\n",
      "wartość wyliczona: 0.11694216728210449 błąd: 1.1440643366000813e-7\n",
      "wartość wyliczona: 0.11694192886352539 błąd: 3.5282501276157063e-7\n",
      "wartość wyliczona: 0.11694145202636719 błąd: 8.296621709646956e-7\n",
      "wartość wyliczona: 0.11694145202636719 błąd: 8.296621709646956e-7\n",
      "wartość wyliczona: 0.11693954467773438 błąd: 2.7370108037771956e-6\n",
      "wartość wyliczona: 0.116943359375 błąd: 1.0776864618478044e-6\n",
      "wartość wyliczona: 0.1169281005859375 błąd: 1.4181102600652196e-5\n",
      "wartość wyliczona: 0.116943359375 błąd: 1.0776864618478044e-6\n",
      "wartość wyliczona: 0.11688232421875 błąd: 5.9957469788152196e-5\n",
      "wartość wyliczona: 0.1168212890625 błąd: 0.0001209926260381522\n",
      "wartość wyliczona: 0.116943359375 błąd: 1.0776864618478044e-6\n",
      "wartość wyliczona: 0.11669921875 błąd: 0.0002430629385381522\n",
      "wartość wyliczona: 0.1162109375 błąd: 0.0007313441885381522\n",
      "wartość wyliczona: 0.1171875 błąd: 0.0002452183114618478\n",
      "wartość wyliczona: 0.11328125 błąd: 0.003661031688538152\n",
      "wartość wyliczona: 0.109375 błąd: 0.007567281688538152\n",
      "wartość wyliczona: 0.109375 błąd: 0.007567281688538152\n",
      "wartość wyliczona: 0.09375 błąd: 0.023192281688538152\n",
      "wartość wyliczona: 0.125 błąd: 0.008057718311461848\n",
      "wartość wyliczona: 0.0 błąd: 0.11694228168853815\n",
      "wartość wyliczona: 0.0 błąd: 0.11694228168853815\n",
      "wartość wyliczona: -0.5 błąd: 0.6169422816885382\n",
      "wartość wyliczona: 0.0 błąd: 0.11694228168853815\n",
      "wartość wyliczona: 0.0 błąd: 0.11694228168853815\n"
     ]
    }
   ],
   "source": [
    "function count_approx_der(f, x::Float64, h::Float64)\n",
    "    return (f(x+h)-f(x))/h\n",
    "end\n",
    "\n",
    "function count_der(x::Float64)\n",
    "    return cos(x)-3*sin(3*x)\n",
    "end\n",
    "\n",
    "function f(x::Float64)\n",
    "    return sin(x) + cos(3*x)\n",
    "end\n",
    "\n",
    "function count()\n",
    "    h::Float64 = 1.0\n",
    "    for i in 0:54\n",
    "        println(\"wartość wyliczona: $(count_approx_der(f, 1.0, h)) błąd: $(abs(count_der(1.0)-count_approx_der(f, 1.0, h)))\")\n",
    "        h /= 2.0\n",
    "    end\n",
    "end\n",
    "\n",
    "count()"
   ]
  },
  {
   "cell_type": "markdown",
   "metadata": {},
   "source": [
    "Od pewnego momentu nie obserwujemy poprawy przybliżenia, ponieważ wartość wyrażenia $1+h$ zbliża się do 1, aż do momentu, gdy $h$ jest na tyle małe, że otrzymujemy $1+h = 1$, co wynika z ograniczenia precyzji.\n",
    "\n",
    "**Wnioski:** Powinniśmy unikać dodawania cyfr znacznie różniących się rzędem, ponieważ takie działanie niesie ze sobą ryzyko utraty dokładności wyniku."
   ]
  }
 ],
 "metadata": {
  "kernelspec": {
   "display_name": "Julia 1.5.2",
   "language": "julia",
   "name": "julia-1.5"
  },
  "language_info": {
   "file_extension": ".jl",
   "mimetype": "application/julia",
   "name": "julia",
   "version": "1.5.2"
  }
 },
 "nbformat": 4,
 "nbformat_minor": 4
}
